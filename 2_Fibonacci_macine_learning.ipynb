{
  "nbformat": 4,
  "nbformat_minor": 0,
  "metadata": {
    "colab": {
      "private_outputs": true,
      "provenance": [],
      "authorship_tag": "ABX9TyPAcZ9uSsJbZZh/fIwr0fwv",
      "include_colab_link": true
    },
    "kernelspec": {
      "name": "python3",
      "display_name": "Python 3"
    },
    "language_info": {
      "name": "python"
    }
  },
  "cells": [
    {
      "cell_type": "markdown",
      "metadata": {
        "id": "view-in-github",
        "colab_type": "text"
      },
      "source": [
        "<a href=\"https://colab.research.google.com/github/mahoangnhatphi/AIN501C/blob/main/2_Fibonacci_macine_learning.ipynb\" target=\"_parent\"><img src=\"https://colab.research.google.com/assets/colab-badge.svg\" alt=\"Open In Colab\"/></a>"
      ]
    },
    {
      "cell_type": "markdown",
      "source": [
        "# Tạo dãy Fibonacci"
      ],
      "metadata": {
        "id": "AhzOU75JTC-M"
      }
    },
    {
      "cell_type": "code",
      "source": [
        "import numpy as np\n",
        "import tensorflow as tf\n",
        "# Tạo dãy Fibonacci ban đầu\n",
        "fib_sequence = [1, 1]\n",
        "for i in range(2, 100):\n",
        "    next_number = fib_sequence[-1] + 2 * fib_sequence[-2]\n",
        "    fib_sequence.append(next_number)\n",
        "for i, value in enumerate(fib_sequence, start=1):\n",
        "    print(f\"x{i-1} = {value}\")"
      ],
      "metadata": {
        "id": "xXlsKzQTTb9k"
      },
      "execution_count": null,
      "outputs": []
    },
    {
      "cell_type": "markdown",
      "source": [
        "# LSTM"
      ],
      "metadata": {
        "id": "4-hde0iIXzvT"
      }
    },
    {
      "cell_type": "code",
      "source": [
        "import numpy as np\n",
        "from sklearn.preprocessing import MinMaxScaler\n",
        "from tensorflow.keras.models import Sequential\n",
        "from tensorflow.keras.layers import LSTM, Dense\n",
        "\n",
        "# Tạo dãy số theo qui luật\n",
        "def generate_sequence(n):\n",
        "    sequence = [1, 1]\n",
        "    for i in range(2, n):\n",
        "        next_term = sequence[i - 1] + 2 * sequence[i - 2]\n",
        "        sequence.append(next_term)\n",
        "    return sequence\n",
        "\n",
        "n = 101\n",
        "sequence = generate_sequence(n)\n",
        "\n",
        "# Chuẩn bị dữ liệu huấn luyện\n",
        "X = np.array(sequence[:-1]).reshape(-1, 1)\n",
        "y = np.array(sequence[1:]).reshape(-1, 1)\n",
        "\n",
        "# Chuẩn hóa dữ liệu\n",
        "scaler = MinMaxScaler()\n",
        "X_scaled = scaler.fit_transform(X)\n",
        "y_scaled = scaler.fit_transform(y)\n",
        "\n",
        "# Reshape dữ liệu để phù hợp với đầu vào của LSTM\n",
        "X_lstm = X_scaled.reshape(X_scaled.shape[0], 1, X_scaled.shape[1])\n",
        "y_lstm = y_scaled.reshape(y_scaled.shape[0], 1, y_scaled.shape[1])\n",
        "\n",
        "# Xây dựng mô hình LSTM\n",
        "model = Sequential()\n",
        "model.add(LSTM(units=50, activation='relu', input_shape=(1, 1)))\n",
        "model.add(Dense(units=1))\n",
        "model.compile(optimizer='adam', loss='mean_squared_error')\n",
        "\n",
        "# Huấn luyện mô hình\n",
        "model.fit(X_lstm, y_lstm, epochs=100, batch_size=8, verbose=1)\n",
        "\n",
        "# Dự đoán số thứ 101 bằng mô hình đã huấn luyện\n",
        "term_100 = np.array([sequence[100]]).reshape(-1, 1)\n",
        "term_100_scaled = scaler.transform(term_100)\n",
        "term_100_lstm = term_100_scaled.reshape(1, 1, 1)\n",
        "predicted_term_101_scaled = model.predict(term_100_lstm)\n",
        "predicted_term_101 = scaler.inverse_transform(predicted_term_101_scaled)\n",
        "\n",
        "print(\"Dự đoán số thứ 101:\", predicted_term_101)\n"
      ],
      "metadata": {
        "id": "8xQHshPNV-hb"
      },
      "execution_count": null,
      "outputs": []
    },
    {
      "cell_type": "markdown",
      "source": [
        "# Neutral network"
      ],
      "metadata": {
        "id": "TIVe6Vu8X17L"
      }
    },
    {
      "cell_type": "code",
      "source": [
        "import numpy as np\n",
        "from sklearn.preprocessing import MinMaxScaler\n",
        "from sklearn.model_selection import train_test_split\n",
        "from tensorflow.keras.models import Sequential\n",
        "from tensorflow.keras.layers import Dense\n",
        "\n",
        "# Tạo dãy số theo qui luật\n",
        "def generate_sequence(n):\n",
        "    sequence = [1, 1]\n",
        "    for i in range(2, n):\n",
        "        next_term = sequence[i - 1] + 2 * sequence[i - 2]\n",
        "        sequence.append(next_term)\n",
        "    return sequence\n",
        "\n",
        "n = 101  # Đã thay đổi số lượng số trong dãy\n",
        "sequence = generate_sequence(n)\n",
        "\n",
        "# Chuẩn bị dữ liệu huấn luyện\n",
        "X = np.array(sequence[:-1]).reshape(-1, 1)\n",
        "y = np.array(sequence[1:]).reshape(-1, 1)\n",
        "\n",
        "# Chuẩn hóa dữ liệu\n",
        "scaler = MinMaxScaler()\n",
        "X_scaled = scaler.fit_transform(X)\n",
        "y_scaled = scaler.fit_transform(y)\n",
        "\n",
        "# Chia dữ liệu thành tập huấn luyện và tập kiểm tra\n",
        "X_train, X_test, y_train, y_test = train_test_split(X_scaled, y_scaled, test_size=0.2, random_state=42)\n",
        "\n",
        "# Xây dựng mô hình Neural Network\n",
        "model = Sequential()\n",
        "model.add(Dense(units=64, activation='relu', input_dim=1))\n",
        "model.add(Dense(units=32, activation='relu'))\n",
        "model.add(Dense(units=1))\n",
        "model.compile(optimizer='adam', loss='mean_squared_error')\n",
        "\n",
        "# Huấn luyện mô hình\n",
        "model.fit(X_train, y_train, epochs=100, batch_size=8, verbose=1)\n",
        "\n",
        "# Dự đoán số thứ 101 trong dãy\n",
        "term_100 = np.array([sequence[100]]).reshape(-1, 1)\n",
        "term_100_scaled = scaler.transform(term_100)\n",
        "predicted_term_101_scaled = model.predict(term_100_scaled)\n",
        "predicted_term_101 = scaler.inverse_transform(predicted_term_101_scaled)\n",
        "\n",
        "print(\"Dự đoán số thứ 101:\", predicted_term_101)\n"
      ],
      "metadata": {
        "id": "9xCqRZ-aYHAL"
      },
      "execution_count": null,
      "outputs": []
    }
  ]
}